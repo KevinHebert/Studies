{
  "nbformat": 4,
  "nbformat_minor": 0,
  "metadata": {
    "colab": {
      "name": "IGTIBootCampCientistaDeDados_Correlacao.ipynb",
      "provenance": [],
      "authorship_tag": "ABX9TyMHjADBmrJvEgpsnXWfBnFm",
      "include_colab_link": true
    },
    "kernelspec": {
      "name": "python3",
      "display_name": "Python 3"
    }
  },
  "cells": [
    {
      "cell_type": "markdown",
      "metadata": {
        "id": "view-in-github",
        "colab_type": "text"
      },
      "source": [
        "<a href=\"https://colab.research.google.com/github/KevinHebert/Studies/blob/master/IGTIBootCampCientistaDeDados_Correlacao.ipynb\" target=\"_parent\"><img src=\"https://colab.research.google.com/assets/colab-badge.svg\" alt=\"Open In Colab\"/></a>"
      ]
    },
    {
      "cell_type": "markdown",
      "metadata": {
        "id": "fulmeCSjEGmE"
      },
      "source": [
        "# Aula [4.4] - Regressão e correlação com Python"
      ]
    },
    {
      "cell_type": "code",
      "metadata": {
        "id": "KmPxx00YBRsn"
      },
      "source": [
        "import numpy as np\n",
        "from sklearn import datasets, linear_model\n",
        "import matplotlib.pyplot as plt\n",
        "from sklearn.metrics import mean_squared_error, r2_score"
      ],
      "execution_count": 1,
      "outputs": []
    },
    {
      "cell_type": "code",
      "metadata": {
        "id": "e833m3rNCIA1",
        "outputId": "d7b3f686-813d-48ca-a8d1-8475289765fc",
        "colab": {
          "base_uri": "https://localhost:8080/",
          "height": 265
        }
      },
      "source": [
        "#dois vetores para o exemplo da aula\n",
        "Receita = np.array([2,15,25,35,45,55,65,75,80,85,32,62,2,15,25,35,45,55,65,75,80,85,32,62])\n",
        "Preco = np.array([10,20,14,32,22,38,41,52,55,61,21,44,10,20,14,32,22,38,41,52,55,61,21,44])\n",
        "\n",
        "plt.scatter(Receita, Preco, color='black')\n",
        "plt.show()"
      ],
      "execution_count": 6,
      "outputs": [
        {
          "output_type": "display_data",
          "data": {
            "image/png": "[encoded data removed]",
            "text/plain": [
              "<Figure size 432x288 with 1 Axes>"
            ]
          },
          "metadata": {
            "tags": [],
            "needs_background": "light"
          }
        }
      ]
    },
    {
      "cell_type": "code",
      "metadata": {
        "id": "pen374FtC_BJ",
        "outputId": "2c941c27-ca93-4f34-9dcc-09b7943f977c",
        "colab": {
          "base_uri": "https://localhost:8080/",
          "height": 319
        }
      },
      "source": [
        "#dois vetores para o exemplo da aula\n",
        "Receita = np.array([2,15,25,35,45,55,65,75,80,85,32,62,2,15,25,35,45,55,65,75,80,85,32,62])\n",
        "Preco = np.array([10,20,14,32,22,38,41,52,55,61,21,44,10,20,14,32,22,38,41,52,55,61,21,44])\n",
        "\n",
        "regr = linear_model.LinearRegression()\n",
        "regr.fit(Receita.reshape(-1,1),Preco)\n",
        "y = regr.predict(Receita.reshape(-1,1))\n",
        "\n",
        "print('Coefficients: /n', regr.coef_)\n",
        "print('Intercept: /n', regr.intercept_)\n",
        "\n",
        "plt.scatter(Receita, Preco, color='black')\n",
        "plt.plot(Receita, y,color='red',linewidth=3)"
      ],
      "execution_count": 10,
      "outputs": [
        {
          "output_type": "stream",
          "text": [
            "Coefficients: /n [0.60582822]\n",
            "Intercept: /n 5.08691206543967\n"
          ],
          "name": "stdout"
        },
        {
          "output_type": "execute_result",
          "data": {
            "text/plain": [
              "[<matplotlib.lines.Line2D at 0x7fb81ee80860>]"
            ]
          },
          "metadata": {
            "tags": []
          },
          "execution_count": 10
        },
        {
          "output_type": "display_data",
          "data": {
            "image/png": "[encoded data removed]",
            "text/plain": [
              "<Figure size 432x288 with 1 Axes>"
            ]
          },
          "metadata": {
            "tags": [],
            "needs_background": "light"
          }
        }
      ]
    }
  ]
}